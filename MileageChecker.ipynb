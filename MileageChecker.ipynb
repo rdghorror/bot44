{
 "cells": [
  {
   "cell_type": "code",
   "execution_count": 1,
   "metadata": {},
   "outputs": [],
   "source": [
    "import requests\n",
    "import json\n",
    "import pandas as pd\n",
    "import time\n",
    "import numpy as np"
   ]
  },
  {
   "cell_type": "code",
   "execution_count": 2,
   "metadata": {},
   "outputs": [],
   "source": [
    "#developer here credentials\n",
    "api_key='suMcgNlq-h6HLqAx5mRkP30EPw3dvqdDkLStrJbRaWo'\n",
    "app_id='x9l41nnXIuhtllCNDSNO'"
   ]
  },
  {
   "cell_type": "code",
   "execution_count": 3,
   "metadata": {},
   "outputs": [],
   "source": [
    "#read data file\n",
    "dfa=pd.read_csv('raw.csv')"
   ]
  },
  {
   "cell_type": "code",
   "execution_count": 4,
   "metadata": {},
   "outputs": [
    {
     "data": {
      "text/plain": [
       "84030"
      ]
     },
     "execution_count": 4,
     "metadata": {},
     "output_type": "execute_result"
    }
   ],
   "source": [
    "#Randomly thin down datafile by assigning random int between 1 & 2 and selecting just 2's\n",
    "dfa['randNumCol'] = np.random.randint(1,3, size=len(dfa))\n",
    "dfa = dfa.loc[dfa['randNumCol'] > 1]\n",
    "len(dfa)"
   ]
  },
  {
   "cell_type": "code",
   "execution_count": 5,
   "metadata": {},
   "outputs": [],
   "source": [
    "#create empty dataframe\n",
    "dfb=pd.DataFrame()"
   ]
  },
  {
   "cell_type": "code",
   "execution_count": 6,
   "metadata": {},
   "outputs": [],
   "source": [
    "#create a list for distances\n",
    "distance1=[]\n",
    "distance2=[]"
   ]
  },
  {
   "cell_type": "code",
   "execution_count": 7,
   "metadata": {},
   "outputs": [],
   "source": [
    "dfa['location']=dfa['location'].astype(str)\n",
    "dfa['destinationA']=dfa['destinationA'].astype(str)"
   ]
  },
  {
   "cell_type": "code",
   "execution_count": null,
   "metadata": {},
   "outputs": [],
   "source": [
    "    for i, j in dfa.iterrows():\n",
    "        source=(j['location'])\n",
    "        dest=(j['destinationA'])\n",
    "        url='https://route.ls.hereapi.com/routing/7.2/calculateroute.json?'\n",
    "        try:    \n",
    "            r=requests.get(url+\n",
    "                          'apiKey='+api_key+\n",
    "                          '&waypoint0=geo!'+source+\n",
    "                          '&waypoint1=geo!'+dest+\n",
    "                          '&mode=fastest;car;traffic:disabled'\n",
    "                          )\n",
    "            x=r.json()\n",
    "            length1=x['response']['route'][0]['leg'][0]['length']\n",
    "            distance1.append(length1)\n",
    "        except:\n",
    "            distance1.append(\"skipped\")\n",
    "            time.sleep(3)\n",
    "        try:\n",
    "            r2=requests.get(url+\n",
    "                          'apiKey='+api_key+\n",
    "                          '&waypoint0=geo!'+dest+\n",
    "                          '&waypoint1=geo!'+source+\n",
    "                          '&mode=fastest;car;traffic:disabled'\n",
    "                          )\n",
    "            x2=r2.json()\n",
    "            length2=x2['response']['route'][0]['leg'][0]['length']\n",
    "            distance2.append(length2)\n",
    "        except:\n",
    "            distance2.append(\"skipped\")\n",
    "            time.sleep(3)"
   ]
  },
  {
   "cell_type": "code",
   "execution_count": null,
   "metadata": {},
   "outputs": [],
   "source": []
  },
  {
   "cell_type": "code",
   "execution_count": null,
   "metadata": {},
   "outputs": [],
   "source": [
    "dfb['length1(meters)']=distance1\n",
    "dfb['length2(meters)']=distance2"
   ]
  },
  {
   "cell_type": "code",
   "execution_count": null,
   "metadata": {},
   "outputs": [],
   "source": [
    "dfb['roundtrip']=dfb['length1(meters)']+dfb['length2(meters)']"
   ]
  },
  {
   "cell_type": "code",
   "execution_count": null,
   "metadata": {},
   "outputs": [],
   "source": [
    "dfb['milesroundtrip']=(dfb['roundtrip']/1000)/1.609"
   ]
  },
  {
   "cell_type": "code",
   "execution_count": null,
   "metadata": {},
   "outputs": [],
   "source": [
    "dfb.to_csv('Distances.csv')"
   ]
  },
  {
   "cell_type": "code",
   "execution_count": null,
   "metadata": {},
   "outputs": [],
   "source": [
    "dfb.head()"
   ]
  },
  {
   "cell_type": "code",
   "execution_count": null,
   "metadata": {},
   "outputs": [],
   "source": []
  }
 ],
 "metadata": {
  "kernelspec": {
   "display_name": "Python 3",
   "language": "python",
   "name": "python3"
  },
  "language_info": {
   "codemirror_mode": {
    "name": "ipython",
    "version": 3
   },
   "file_extension": ".py",
   "mimetype": "text/x-python",
   "name": "python",
   "nbconvert_exporter": "python",
   "pygments_lexer": "ipython3",
   "version": "3.7.6"
  }
 },
 "nbformat": 4,
 "nbformat_minor": 4
}
